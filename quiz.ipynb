{
 "cells": [
  {
   "cell_type": "code",
   "execution_count": 2,
   "id": "728df33a",
   "metadata": {},
   "outputs": [
    {
     "name": "stdout",
     "output_type": "stream",
     "text": [
      "{'language': 'fr',\n",
      " 'questions': [{'answer_index': 0,\n",
      "                'choices': ['print(\"Hello World\")',\n",
      "                            'echo \"Hello World\"',\n",
      "                            'console.log(\"Hello World\")',\n",
      "                            'printf(\"Hello World\")'],\n",
      "                'id': 1,\n",
      "                'question': 'Quelle instruction affiche le texte Hello World '\n",
      "                            'en Python ?'},\n",
      "               {'answer_index': 0,\n",
      "                'choices': ['str', 'int', 'bool', 'NoneType'],\n",
      "                'id': 2,\n",
      "                'question': 'En Python 3, quel est le type de retour de la '\n",
      "                            'fonction input() ?'},\n",
      "               {'answer_index': 0,\n",
      "                'choices': ['def add(x, y):\\n    return x + y',\n",
      "                            'function add(x, y) {\\n  return x + y;\\n}',\n",
      "                            'def add x, y:\\n    return x + y',\n",
      "                            'def add(x, y) -> x + y'],\n",
      "                'id': 3,\n",
      "                'question': 'Quelle est la bonne syntaxe pour définir une '\n",
      "                            'fonction add qui renvoie la somme de x et y ?'},\n",
      "               {'answer_index': 0,\n",
      "                'choices': ['3', '\"3\"', '2', 'Une erreur de type'],\n",
      "                'id': 4,\n",
      "                'question': 'Que renvoie l’expression len([1, 2, 3]) ?'},\n",
      "               {'answer_index': 0,\n",
      "                'choices': ['Une liste est mutable, un tuple est immuable.',\n",
      "                            'Les listes et les tuples sont immuables.',\n",
      "                            'Les listes et les tuples sont mutables.',\n",
      "                            'Un tuple est toujours trié automatiquement.'],\n",
      "                'id': 5,\n",
      "                'question': 'Quelle affirmation est correcte à propos des '\n",
      "                            'listes et des tuples en Python ?'}],\n",
      " 'quiz_title': 'Quiz - Bases de Python'}\n"
     ]
    }
   ],
   "source": [
    "# Charger un quiz\n",
    "import json\n",
    "import pprint\n",
    "\n",
    "with open(\"quiz.json\", \"r\", encoding=\"utf-8\") as f:\n",
    "    data = json.load(f)  # 'data' est un dict/list Python\n",
    "\n",
    "pprint.pprint(data)"
   ]
  },
  {
   "cell_type": "code",
   "execution_count": null,
   "id": "eac2c383",
   "metadata": {},
   "outputs": [
    {
     "name": "stdout",
     "output_type": "stream",
     "text": [
      "Quiz - Bases de Python\n",
      "1 ) Quelle instruction affiche le texte Hello World en Python ?\n",
      "\t 1 - print(\"Hello World\")\n",
      "\t 2 - echo \"Hello World\"\n",
      "\t 3 - console.log(\"Hello World\")\n",
      "\t 4 - printf(\"Hello World\")\n",
      "Erreur\n",
      "\n",
      "2 ) En Python 3, quel est le type de retour de la fonction input() ?\n",
      "\t 1 - str\n",
      "\t 2 - int\n",
      "\t 3 - bool\n",
      "\t 4 - NoneType\n",
      "Erreur\n",
      "\n",
      "3 ) Quelle est la bonne syntaxe pour définir une fonction add qui renvoie la somme de x et y ?\n",
      "\t 1 - def add(x, y):\n",
      "    return x + y\n",
      "\t 2 - function add(x, y) {\n",
      "  return x + y;\n",
      "}\n",
      "\t 3 - def add x, y:\n",
      "    return x + y\n",
      "\t 4 - def add(x, y) -> x + y\n",
      "Trouvé\n",
      "\n",
      "4 ) Que renvoie l’expression len([1, 2, 3]) ?\n",
      "\t 1 - 3\n",
      "\t 2 - \"3\"\n",
      "\t 3 - 2\n",
      "\t 4 - Une erreur de type\n",
      "Trouvé\n",
      "\n",
      "5 ) Quelle affirmation est correcte à propos des listes et des tuples en Python ?\n",
      "\t 1 - Une liste est mutable, un tuple est immuable.\n",
      "\t 2 - Les listes et les tuples sont immuables.\n",
      "\t 3 - Les listes et les tuples sont mutables.\n",
      "\t 4 - Un tuple est toujours trié automatiquement.\n",
      "Trouvé\n",
      "\n"
     ]
    }
   ],
   "source": [
    "# prototype\n",
    "print(data['quiz_title'])\n",
    "#print(data['questions'])\n",
    "\n",
    "for question in data['questions']:\n",
    "    print(question['id'], ')', question['question'])\n",
    "    for numero, choice in enumerate(question['choices']):\n",
    "        print('\\t', numero + 1, '-', choice)\n",
    "\n",
    "    reponse = int(input(\"Votre choix:\"))\n",
    "    if reponse - 1 == question['answer_index']:\n",
    "        print(\"Trouvé\")\n",
    "    else:\n",
    "        print(\"Erreur\")\n",
    "    print()"
   ]
  },
  {
   "cell_type": "code",
   "execution_count": 4,
   "id": "639b16ef",
   "metadata": {},
   "outputs": [],
   "source": [
    "# création structure quiz\n",
    "quiz = {}\n",
    "quiz['quiz_title'] = data['quiz_title']\n",
    "quiz['nom'] = ''\n",
    "quiz['prenom'] = ''\n",
    "quiz['questions'] = []\n",
    "\n",
    "for question in data['questions']:\n",
    "    question_quiz = {}\n",
    "    question_quiz['question_id'] = question['id']\n",
    "    question_quiz['question']= question['question']\n",
    "    question_quiz['correct'] = False\n",
    "    question_quiz['liste_choix'] = []\n",
    "\n",
    "    for numero, choice in enumerate(question['choices']):\n",
    "        choix = {}\n",
    "        choix['choix'] = choice\n",
    "        if numero == question['answer_index']:\n",
    "            choix['correct'] = True\n",
    "        else:\n",
    "            choix['correct'] = False\n",
    "\n",
    "        question_quiz['liste_choix'].append(choix)\n",
    "\n",
    "    quiz['questions'].append(question_quiz)\n"
   ]
  },
  {
   "cell_type": "code",
   "execution_count": 5,
   "id": "3c789bb1",
   "metadata": {},
   "outputs": [
    {
     "name": "stdout",
     "output_type": "stream",
     "text": [
      "{'nom': '',\n",
      " 'prenom': '',\n",
      " 'questions': [{'correct': False,\n",
      "                'liste_choix': [{'choix': 'print(\"Hello World\")',\n",
      "                                 'correct': True},\n",
      "                                {'choix': 'echo \"Hello World\"',\n",
      "                                 'correct': False},\n",
      "                                {'choix': 'console.log(\"Hello World\")',\n",
      "                                 'correct': False},\n",
      "                                {'choix': 'printf(\"Hello World\")',\n",
      "                                 'correct': False}],\n",
      "                'question': 'Quelle instruction affiche le texte Hello World '\n",
      "                            'en Python ?',\n",
      "                'question_id': 1},\n",
      "               {'correct': False,\n",
      "                'liste_choix': [{'choix': 'str', 'correct': True},\n",
      "                                {'choix': 'int', 'correct': False},\n",
      "                                {'choix': 'bool', 'correct': False},\n",
      "                                {'choix': 'NoneType', 'correct': False}],\n",
      "                'question': 'En Python 3, quel est le type de retour de la '\n",
      "                            'fonction input() ?',\n",
      "                'question_id': 2},\n",
      "               {'correct': False,\n",
      "                'liste_choix': [{'choix': 'def add(x, y):\\n    return x + y',\n",
      "                                 'correct': True},\n",
      "                                {'choix': 'function add(x, y) {\\n'\n",
      "                                          '  return x + y;\\n'\n",
      "                                          '}',\n",
      "                                 'correct': False},\n",
      "                                {'choix': 'def add x, y:\\n    return x + y',\n",
      "                                 'correct': False},\n",
      "                                {'choix': 'def add(x, y) -> x + y',\n",
      "                                 'correct': False}],\n",
      "                'question': 'Quelle est la bonne syntaxe pour définir une '\n",
      "                            'fonction add qui renvoie la somme de x et y ?',\n",
      "                'question_id': 3},\n",
      "               {'correct': False,\n",
      "                'liste_choix': [{'choix': '3', 'correct': True},\n",
      "                                {'choix': '\"3\"', 'correct': False},\n",
      "                                {'choix': '2', 'correct': False},\n",
      "                                {'choix': 'Une erreur de type',\n",
      "                                 'correct': False}],\n",
      "                'question': 'Que renvoie l’expression len([1, 2, 3]) ?',\n",
      "                'question_id': 4},\n",
      "               {'correct': False,\n",
      "                'liste_choix': [{'choix': 'Une liste est mutable, un tuple est '\n",
      "                                          'immuable.',\n",
      "                                 'correct': True},\n",
      "                                {'choix': 'Les listes et les tuples sont '\n",
      "                                          'immuables.',\n",
      "                                 'correct': False},\n",
      "                                {'choix': 'Les listes et les tuples sont '\n",
      "                                          'mutables.',\n",
      "                                 'correct': False},\n",
      "                                {'choix': 'Un tuple est toujours trié '\n",
      "                                          'automatiquement.',\n",
      "                                 'correct': False}],\n",
      "                'question': 'Quelle affirmation est correcte à propos des '\n",
      "                            'listes et des tuples en Python ?',\n",
      "                'question_id': 5}],\n",
      " 'quiz_title': 'Quiz - Bases de Python'}\n"
     ]
    }
   ],
   "source": [
    "pprint.pprint(quiz)"
   ]
  },
  {
   "cell_type": "code",
   "execution_count": 6,
   "id": "06cd4043",
   "metadata": {},
   "outputs": [
    {
     "name": "stdout",
     "output_type": "stream",
     "text": [
      "✅ Le fichier resultat.json a été créé avec succès!\n"
     ]
    }
   ],
   "source": [
    "import json\n",
    "\n",
    "# Enregistrer le dictionnaire 'quiz' dans 'resultat.json'\n",
    "with open('resultat.json', 'w', encoding='utf-8') as fichier:\n",
    "    json.dump(quiz, fichier, indent=2, ensure_ascii=False)\n",
    "\n",
    "print(\"✅ Le fichier resultat.json a été créé avec succès!\")\n"
   ]
  },
  {
   "cell_type": "code",
   "execution_count": 1,
   "id": "d6294c53",
   "metadata": {},
   "outputs": [
    {
     "name": "stdout",
     "output_type": "stream",
     "text": [
      "Questions du test : [12, 35, 41, 42, 33, 19, 26, 45, 17, 50]\n"
     ]
    }
   ],
   "source": [
    "import random\n",
    "\n",
    "toutes_questions = list(range(1, 51))  # Questions numérotées de 1 à 50\n",
    "questions_selectionnees = random.sample(toutes_questions, 10)\n",
    "print(f\"Questions du test : {questions_selectionnees}\")\n",
    "# Ex: [23, 7, 45, 12, 3, 38, 19, 41, 8, 29]"
   ]
  }
 ],
 "metadata": {
  "kernelspec": {
   "display_name": "venv",
   "language": "python",
   "name": "python3"
  },
  "language_info": {
   "codemirror_mode": {
    "name": "ipython",
    "version": 3
   },
   "file_extension": ".py",
   "mimetype": "text/x-python",
   "name": "python",
   "nbconvert_exporter": "python",
   "pygments_lexer": "ipython3",
   "version": "3.12.3"
  }
 },
 "nbformat": 4,
 "nbformat_minor": 5
}
