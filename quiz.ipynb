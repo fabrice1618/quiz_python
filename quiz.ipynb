{
 "cells": [
  {
   "cell_type": "code",
   "execution_count": null,
   "id": "728df33a",
   "metadata": {},
   "outputs": [
    {
     "name": "stdout",
     "output_type": "stream",
     "text": [
      "{'language': 'fr',\n",
      " 'questions': [{'answer_index': 0,\n",
      "                'choices': ['print(\"Hello World\")',\n",
      "                            'echo \"Hello World\"',\n",
      "                            'console.log(\"Hello World\")',\n",
      "                            'printf(\"Hello World\")'],\n",
      "                'id': 1,\n",
      "                'question': 'Quelle instruction affiche le texte Hello World '\n",
      "                            'en Python ?'},\n",
      "               {'answer_index': 0,\n",
      "                'choices': ['str', 'int', 'bool', 'NoneType'],\n",
      "                'id': 2,\n",
      "                'question': 'En Python 3, quel est le type de retour de la '\n",
      "                            'fonction input() ?'},\n",
      "               {'answer_index': 0,\n",
      "                'choices': ['def add(x, y):\\n    return x + y',\n",
      "                            'function add(x, y) {\\n  return x + y;\\n}',\n",
      "                            'def add x, y:\\n    return x + y',\n",
      "                            'def add(x, y) -> x + y'],\n",
      "                'id': 3,\n",
      "                'question': 'Quelle est la bonne syntaxe pour définir une '\n",
      "                            'fonction add qui renvoie la somme de x et y ?'},\n",
      "               {'answer_index': 0,\n",
      "                'choices': ['3', '\"3\"', '2', 'Une erreur de type'],\n",
      "                'id': 4,\n",
      "                'question': 'Que renvoie l’expression len([1, 2, 3]) ?'},\n",
      "               {'answer_index': 0,\n",
      "                'choices': ['Une liste est mutable, un tuple est immuable.',\n",
      "                            'Les listes et les tuples sont immuables.',\n",
      "                            'Les listes et les tuples sont mutables.',\n",
      "                            'Un tuple est toujours trié automatiquement.'],\n",
      "                'id': 5,\n",
      "                'question': 'Quelle affirmation est correcte à propos des '\n",
      "                            'listes et des tuples en Python ?'}],\n",
      " 'quiz_title': 'Quiz - Bases de Python'}\n"
     ]
    }
   ],
   "source": [
    "# Charger un quiz\n",
    "import json\n",
    "import pprint\n",
    "\n",
    "with open(\"quiz_python.json\", \"r\", encoding=\"utf-8\") as f:\n",
    "    data = json.load(f)  # 'data' est un dict/list Python\n",
    "\n",
    "pprint.pprint(data)"
   ]
  },
  {
   "cell_type": "code",
   "execution_count": 42,
   "id": "eac2c383",
   "metadata": {},
   "outputs": [
    {
     "name": "stdout",
     "output_type": "stream",
     "text": [
      "Quiz - Bases de Python\n",
      "1 ) Quelle instruction affiche le texte Hello World en Python ?\n",
      "\t 1 - print(\"Hello World\")\n",
      "\t 2 - echo \"Hello World\"\n",
      "\t 3 - console.log(\"Hello World\")\n",
      "\t 4 - printf(\"Hello World\")\n"
     ]
    },
    {
     "ename": "ValueError",
     "evalue": "invalid literal for int() with base 10: ''",
     "output_type": "error",
     "traceback": [
      "\u001b[31m---------------------------------------------------------------------------\u001b[39m",
      "\u001b[31mValueError\u001b[39m                                Traceback (most recent call last)",
      "\u001b[36mCell\u001b[39m\u001b[36m \u001b[39m\u001b[32mIn[42]\u001b[39m\u001b[32m, line 10\u001b[39m\n\u001b[32m      7\u001b[39m \u001b[38;5;28;01mfor\u001b[39;00m numero, choice \u001b[38;5;129;01min\u001b[39;00m \u001b[38;5;28menumerate\u001b[39m(question[\u001b[33m'\u001b[39m\u001b[33mchoices\u001b[39m\u001b[33m'\u001b[39m]):\n\u001b[32m      8\u001b[39m     \u001b[38;5;28mprint\u001b[39m(\u001b[33m'\u001b[39m\u001b[38;5;130;01m\\t\u001b[39;00m\u001b[33m'\u001b[39m, numero + \u001b[32m1\u001b[39m, \u001b[33m'\u001b[39m\u001b[33m-\u001b[39m\u001b[33m'\u001b[39m, choice)\n\u001b[32m---> \u001b[39m\u001b[32m10\u001b[39m reponse = \u001b[38;5;28;43mint\u001b[39;49m\u001b[43m(\u001b[49m\u001b[38;5;28;43minput\u001b[39;49m\u001b[43m(\u001b[49m\u001b[33;43m\"\u001b[39;49m\u001b[33;43mVotre choix:\u001b[39;49m\u001b[33;43m\"\u001b[39;49m\u001b[43m)\u001b[49m\u001b[43m)\u001b[49m\n\u001b[32m     11\u001b[39m \u001b[38;5;28;01mif\u001b[39;00m reponse - \u001b[32m1\u001b[39m == question[\u001b[33m'\u001b[39m\u001b[33manswer_index\u001b[39m\u001b[33m'\u001b[39m]:\n\u001b[32m     12\u001b[39m     \u001b[38;5;28mprint\u001b[39m(\u001b[33m\"\u001b[39m\u001b[33mTrouvé\u001b[39m\u001b[33m\"\u001b[39m)\n",
      "\u001b[31mValueError\u001b[39m: invalid literal for int() with base 10: ''"
     ]
    }
   ],
   "source": [
    "# prototype\n",
    "print(data['quiz_title'])\n",
    "#print(data['questions'])\n",
    "\n",
    "for question in data['questions']:\n",
    "    print(question['id'], ')', question['question'])\n",
    "    for numero, choice in enumerate(question['choices']):\n",
    "        print('\\t', numero + 1, '-', choice)\n",
    "\n",
    "    reponse = int(input(\"Votre choix:\"))\n",
    "    if reponse - 1 == question['answer_index']:\n",
    "        print(\"Trouvé\")\n",
    "    else:\n",
    "        print(\"Erreur\")\n",
    "    print()"
   ]
  },
  {
   "cell_type": "code",
   "execution_count": 43,
   "id": "639b16ef",
   "metadata": {},
   "outputs": [],
   "source": [
    "# création structure quiz\n",
    "quiz = {}\n",
    "quiz['quiz_title'] = data['quiz_title']\n",
    "quiz['nom'] = ''\n",
    "quiz['prenom'] = ''\n",
    "quiz['questions'] = []\n",
    "\n",
    "for question in data['questions']:\n",
    "    question_quiz = {}\n",
    "    question_quiz['question_id'] = question['id']\n",
    "    question_quiz['question']= question['question']\n",
    "    question_quiz['correct'] = False\n",
    "    question_quiz['liste_choix'] = []\n",
    "\n",
    "    for numero, choice in enumerate(question['choices']):\n",
    "        choix = {}\n",
    "        choix['choix'] = choice\n",
    "        if numero == question['answer_index']:\n",
    "            choix['correct'] = True\n",
    "        else:\n",
    "            choix['correct'] = False\n",
    "\n",
    "        question_quiz['liste_choix'].append(choix)\n",
    "\n",
    "    quiz['questions'].append(question_quiz)\n"
   ]
  },
  {
   "cell_type": "code",
   "execution_count": 44,
   "id": "3c789bb1",
   "metadata": {},
   "outputs": [
    {
     "name": "stdout",
     "output_type": "stream",
     "text": [
      "{'nom': '',\n",
      " 'prenom': '',\n",
      " 'questions': [{'correct': False,\n",
      "                'liste_choix': [{'choix': 'print(\"Hello World\")',\n",
      "                                 'correct': True},\n",
      "                                {'choix': 'echo \"Hello World\"',\n",
      "                                 'correct': False},\n",
      "                                {'choix': 'console.log(\"Hello World\")',\n",
      "                                 'correct': False},\n",
      "                                {'choix': 'printf(\"Hello World\")',\n",
      "                                 'correct': False}],\n",
      "                'question': 'Quelle instruction affiche le texte Hello World '\n",
      "                            'en Python ?',\n",
      "                'question_id': 1},\n",
      "               {'correct': False,\n",
      "                'liste_choix': [{'choix': 'str', 'correct': True},\n",
      "                                {'choix': 'int', 'correct': False},\n",
      "                                {'choix': 'bool', 'correct': False},\n",
      "                                {'choix': 'NoneType', 'correct': False}],\n",
      "                'question': 'En Python 3, quel est le type de retour de la '\n",
      "                            'fonction input() ?',\n",
      "                'question_id': 2},\n",
      "               {'correct': False,\n",
      "                'liste_choix': [{'choix': 'def add(x, y):\\n    return x + y',\n",
      "                                 'correct': True},\n",
      "                                {'choix': 'function add(x, y) {\\n'\n",
      "                                          '  return x + y;\\n'\n",
      "                                          '}',\n",
      "                                 'correct': False},\n",
      "                                {'choix': 'def add x, y:\\n    return x + y',\n",
      "                                 'correct': False},\n",
      "                                {'choix': 'def add(x, y) -> x + y',\n",
      "                                 'correct': False}],\n",
      "                'question': 'Quelle est la bonne syntaxe pour définir une '\n",
      "                            'fonction add qui renvoie la somme de x et y ?',\n",
      "                'question_id': 3},\n",
      "               {'correct': False,\n",
      "                'liste_choix': [{'choix': '3', 'correct': True},\n",
      "                                {'choix': '\"3\"', 'correct': False},\n",
      "                                {'choix': '2', 'correct': False},\n",
      "                                {'choix': 'Une erreur de type',\n",
      "                                 'correct': False}],\n",
      "                'question': 'Que renvoie l’expression len([1, 2, 3]) ?',\n",
      "                'question_id': 4},\n",
      "               {'correct': False,\n",
      "                'liste_choix': [{'choix': 'Une liste est mutable, un tuple est '\n",
      "                                          'immuable.',\n",
      "                                 'correct': True},\n",
      "                                {'choix': 'Les listes et les tuples sont '\n",
      "                                          'immuables.',\n",
      "                                 'correct': False},\n",
      "                                {'choix': 'Les listes et les tuples sont '\n",
      "                                          'mutables.',\n",
      "                                 'correct': False},\n",
      "                                {'choix': 'Un tuple est toujours trié '\n",
      "                                          'automatiquement.',\n",
      "                                 'correct': False}],\n",
      "                'question': 'Quelle affirmation est correcte à propos des '\n",
      "                            'listes et des tuples en Python ?',\n",
      "                'question_id': 5}],\n",
      " 'quiz_title': 'Quiz - Bases de Python'}\n"
     ]
    }
   ],
   "source": [
    "pprint.pprint(quiz)"
   ]
  },
  {
   "cell_type": "code",
   "execution_count": 45,
   "id": "06cd4043",
   "metadata": {},
   "outputs": [
    {
     "name": "stdout",
     "output_type": "stream",
     "text": [
      "✅ Le fichier resultat.json a été créé avec succès!\n"
     ]
    }
   ],
   "source": [
    "import json\n",
    "\n",
    "# Enregistrer le dictionnaire 'quiz' dans 'resultat.json'\n",
    "with open('resultat.json', 'w', encoding='utf-8') as fichier:\n",
    "    json.dump(quiz, fichier, indent=2, ensure_ascii=False)\n",
    "\n",
    "print(\"✅ Le fichier resultat.json a été créé avec succès!\")\n"
   ]
  },
  {
   "cell_type": "code",
   "execution_count": 46,
   "id": "a7da13cd",
   "metadata": {},
   "outputs": [
    {
     "name": "stdout",
     "output_type": "stream",
     "text": [
      "[{'correct': False,\n",
      "  'liste_choix': [{'choix': 'Une liste est mutable, un tuple est immuable.',\n",
      "                   'correct': True},\n",
      "                  {'choix': 'Les listes et les tuples sont immuables.',\n",
      "                   'correct': False},\n",
      "                  {'choix': 'Les listes et les tuples sont mutables.',\n",
      "                   'correct': False},\n",
      "                  {'choix': 'Un tuple est toujours trié automatiquement.',\n",
      "                   'correct': False}],\n",
      "  'question': 'Quelle affirmation est correcte à propos des listes et des '\n",
      "              'tuples en Python ?',\n",
      "  'question_id': 5},\n",
      " {'correct': False,\n",
      "  'liste_choix': [{'choix': 'print(\"Hello World\")', 'correct': True},\n",
      "                  {'choix': 'echo \"Hello World\"', 'correct': False},\n",
      "                  {'choix': 'console.log(\"Hello World\")', 'correct': False},\n",
      "                  {'choix': 'printf(\"Hello World\")', 'correct': False}],\n",
      "  'question': 'Quelle instruction affiche le texte Hello World en Python ?',\n",
      "  'question_id': 1},\n",
      " {'correct': False,\n",
      "  'liste_choix': [{'choix': '3', 'correct': True},\n",
      "                  {'choix': '\"3\"', 'correct': False},\n",
      "                  {'choix': '2', 'correct': False},\n",
      "                  {'choix': 'Une erreur de type', 'correct': False}],\n",
      "  'question': 'Que renvoie l’expression len([1, 2, 3]) ?',\n",
      "  'question_id': 4},\n",
      " {'correct': False,\n",
      "  'liste_choix': [{'choix': 'def add(x, y):\\n    return x + y',\n",
      "                   'correct': True},\n",
      "                  {'choix': 'function add(x, y) {\\n  return x + y;\\n}',\n",
      "                   'correct': False},\n",
      "                  {'choix': 'def add x, y:\\n    return x + y',\n",
      "                   'correct': False},\n",
      "                  {'choix': 'def add(x, y) -> x + y', 'correct': False}],\n",
      "  'question': 'Quelle est la bonne syntaxe pour définir une fonction add qui '\n",
      "              'renvoie la somme de x et y ?',\n",
      "  'question_id': 3},\n",
      " {'correct': False,\n",
      "  'liste_choix': [{'choix': 'str', 'correct': True},\n",
      "                  {'choix': 'int', 'correct': False},\n",
      "                  {'choix': 'bool', 'correct': False},\n",
      "                  {'choix': 'NoneType', 'correct': False}],\n",
      "  'question': 'En Python 3, quel est le type de retour de la fonction input() '\n",
      "              '?',\n",
      "  'question_id': 2}]\n"
     ]
    }
   ],
   "source": [
    "import random\n",
    "\n",
    "questions_a_poser = []\n",
    "\n",
    "for question in quiz[\"questions\"]:\n",
    "    if question[\"correct\"] == False:\n",
    "        questions_a_poser.append(question)\n",
    "\n",
    "questions_selectionnees = random.sample(questions_a_poser, len(questions_a_poser))\n",
    "\n",
    "pprint.pprint(questions_selectionnees)"
   ]
  },
  {
   "cell_type": "code",
   "execution_count": 47,
   "id": "4223f825",
   "metadata": {},
   "outputs": [
    {
     "name": "stdout",
     "output_type": "stream",
     "text": [
      "[{'question_id': 1, 'question': 'Quelle instruction affiche le texte Hello World en Python ?', 'correct': False, 'liste_choix': [{'choix': 'print(\"Hello World\")', 'correct': True}, {'choix': 'echo \"Hello World\"', 'correct': False}, {'choix': 'console.log(\"Hello World\")', 'correct': False}, {'choix': 'printf(\"Hello World\")', 'correct': False}]}, {'question_id': 2, 'question': 'En Python 3, quel est le type de retour de la fonction input() ?', 'correct': False, 'liste_choix': [{'choix': 'str', 'correct': True}, {'choix': 'int', 'correct': False}, {'choix': 'bool', 'correct': False}, {'choix': 'NoneType', 'correct': False}]}, {'question_id': 3, 'question': 'Quelle est la bonne syntaxe pour définir une fonction add qui renvoie la somme de x et y ?', 'correct': False, 'liste_choix': [{'choix': 'def add(x, y):\\n    return x + y', 'correct': True}, {'choix': 'function add(x, y) {\\n  return x + y;\\n}', 'correct': False}, {'choix': 'def add x, y:\\n    return x + y', 'correct': False}, {'choix': 'def add(x, y) -> x + y', 'correct': False}]}, {'question_id': 4, 'question': 'Que renvoie l’expression len([1, 2, 3]) ?', 'correct': False, 'liste_choix': [{'choix': '3', 'correct': True}, {'choix': '\"3\"', 'correct': False}, {'choix': '2', 'correct': False}, {'choix': 'Une erreur de type', 'correct': False}]}, {'question_id': 5, 'question': 'Quelle affirmation est correcte à propos des listes et des tuples en Python ?', 'correct': False, 'liste_choix': [{'choix': 'Une liste est mutable, un tuple est immuable.', 'correct': True}, {'choix': 'Les listes et les tuples sont immuables.', 'correct': False}, {'choix': 'Les listes et les tuples sont mutables.', 'correct': False}, {'choix': 'Un tuple est toujours trié automatiquement.', 'correct': False}]}]\n",
      "1\n",
      "2\n",
      "3\n",
      "4\n",
      "5\n"
     ]
    }
   ],
   "source": [
    "print(quiz[\"questions\"])\n",
    "\n",
    "for question in quiz[\"questions\"]:\n",
    "    print(question[\"question_id\"])"
   ]
  },
  {
   "cell_type": "code",
   "execution_count": null,
   "id": "40ef9990",
   "metadata": {},
   "outputs": [
    {
     "name": "stdout",
     "output_type": "stream",
     "text": [
      "1) Quelle instruction affiche le texte Hello World en Python ?\n",
      "\n",
      "\t1 - print(\"Hello World\")\n",
      "\t2 - printf(\"Hello World\")\n",
      "\t3 - echo \"Hello World\"\n",
      "\t4 - console.log(\"Hello World\")\n",
      "\n",
      "5) Quelle affirmation est correcte à propos des listes et des tuples en Python ?\n",
      "\n",
      "\t1 - Les listes et les tuples sont immuables.\n",
      "\t2 - Une liste est mutable, un tuple est immuable.\n",
      "\t3 - Un tuple est toujours trié automatiquement.\n",
      "\t4 - Les listes et les tuples sont mutables.\n",
      "\n",
      "2) En Python 3, quel est le type de retour de la fonction input() ?\n",
      "\n",
      "\t1 - int\n",
      "\t2 - bool\n",
      "\t3 - NoneType\n",
      "\t4 - str\n",
      "\n",
      "3) Quelle est la bonne syntaxe pour définir une fonction add qui renvoie la somme de x et y ?\n",
      "\n",
      "\t1 - def add(x, y):\n",
      "    return x + y\n",
      "\t2 - function add(x, y) {\n",
      "  return x + y;\n",
      "}\n",
      "\t3 - def add x, y:\n",
      "    return x + y\n",
      "\t4 - def add(x, y) -> x + y\n",
      "\n",
      "4) Que renvoie l’expression len([1, 2, 3]) ?\n",
      "\n",
      "\t1 - \"3\"\n",
      "\t2 - 3\n",
      "\t3 - Une erreur de type\n",
      "\t4 - 2\n",
      "\n"
     ]
    }
   ],
   "source": [
    "# Questionnaire\n",
    "\n",
    "for question_pose in questions_selectionnees:\n",
    "    print(f'{question_pose[\"question_id\"]}) {question_pose[\"question\"]}\\n')\n",
    "    choix_propose = random.sample(question_pose[\"liste_choix\"], 4)\n",
    "    \n",
    "    for numero, choix in enumerate(choix_propose):\n",
    "        print(f'\\t{numero + 1} - {choix[\"choix\"]}')\n",
    "    \n",
    "    reponse = int(input(\"Renseignez votre choix : \")) - 1\n",
    "    \n",
    "    if choix_propose[reponse][\"correct\"] == True:\n",
    "        for question in quiz[\"questions\"]:\n",
    "            if question_pose[\"question_id\"] == question[\"question_id\"]:\n",
    "                question[\"correct\"] = True\n",
    "\n",
    "    print()\n",
    "    "
   ]
  },
  {
   "cell_type": "code",
   "execution_count": null,
   "id": "87da3533",
   "metadata": {},
   "outputs": [
    {
     "name": "stdout",
     "output_type": "stream",
     "text": [
      "{'nom': '',\n",
      " 'prenom': '',\n",
      " 'questions': [{'correct': True,\n",
      "                'liste_choix': [{'choix': 'print(\"Hello World\")',\n",
      "                                 'correct': True},\n",
      "                                {'choix': 'echo \"Hello World\"',\n",
      "                                 'correct': False},\n",
      "                                {'choix': 'console.log(\"Hello World\")',\n",
      "                                 'correct': False},\n",
      "                                {'choix': 'printf(\"Hello World\")',\n",
      "                                 'correct': False}],\n",
      "                'question': 'Quelle instruction affiche le texte Hello World '\n",
      "                            'en Python ?',\n",
      "                'question_id': 1},\n",
      "               {'correct': True,\n",
      "                'liste_choix': [{'choix': 'str', 'correct': True},\n",
      "                                {'choix': 'int', 'correct': False},\n",
      "                                {'choix': 'bool', 'correct': False},\n",
      "                                {'choix': 'NoneType', 'correct': False}],\n",
      "                'question': 'En Python 3, quel est le type de retour de la '\n",
      "                            'fonction input() ?',\n",
      "                'question_id': 2},\n",
      "               {'correct': True,\n",
      "                'liste_choix': [{'choix': 'def add(x, y):\\n    return x + y',\n",
      "                                 'correct': True},\n",
      "                                {'choix': 'function add(x, y) {\\n'\n",
      "                                          '  return x + y;\\n'\n",
      "                                          '}',\n",
      "                                 'correct': False},\n",
      "                                {'choix': 'def add x, y:\\n    return x + y',\n",
      "                                 'correct': False},\n",
      "                                {'choix': 'def add(x, y) -> x + y',\n",
      "                                 'correct': False}],\n",
      "                'question': 'Quelle est la bonne syntaxe pour définir une '\n",
      "                            'fonction add qui renvoie la somme de x et y ?',\n",
      "                'question_id': 3},\n",
      "               {'correct': True,\n",
      "                'liste_choix': [{'choix': '3', 'correct': True},\n",
      "                                {'choix': '\"3\"', 'correct': False},\n",
      "                                {'choix': '2', 'correct': False},\n",
      "                                {'choix': 'Une erreur de type',\n",
      "                                 'correct': False}],\n",
      "                'question': 'Que renvoie l’expression len([1, 2, 3]) ?',\n",
      "                'question_id': 4},\n",
      "               {'correct': True,\n",
      "                'liste_choix': [{'choix': 'Une liste est mutable, un tuple est '\n",
      "                                          'immuable.',\n",
      "                                 'correct': True},\n",
      "                                {'choix': 'Les listes et les tuples sont '\n",
      "                                          'immuables.',\n",
      "                                 'correct': False},\n",
      "                                {'choix': 'Les listes et les tuples sont '\n",
      "                                          'mutables.',\n",
      "                                 'correct': False},\n",
      "                                {'choix': 'Un tuple est toujours trié '\n",
      "                                          'automatiquement.',\n",
      "                                 'correct': False}],\n",
      "                'question': 'Quelle affirmation est correcte à propos des '\n",
      "                            'listes et des tuples en Python ?',\n",
      "                'question_id': 5}],\n",
      " 'quiz_title': 'Quiz - Bases de Python'}\n"
     ]
    }
   ],
   "source": [
    "pprint.pprint(quiz)"
   ]
  },
  {
   "cell_type": "code",
   "execution_count": null,
   "id": "d6294c53",
   "metadata": {},
   "outputs": [
    {
     "name": "stdout",
     "output_type": "stream",
     "text": [
      "Questions du test : [6, 19, 43, 41, 47, 49, 45, 11, 14, 32]\n"
     ]
    }
   ],
   "source": [
    "import random\n",
    "\n",
    "toutes_questions = list(range(1, 51))  # Questions numérotées de 1 à 50\n",
    "questions_selectionnees = random.sample(toutes_questions, 10)\n",
    "print(f\"Questions du test : {questions_selectionnees}\")\n",
    "# Ex: [23, 7, 45, 12, 3, 38, 19, 41, 8, 29]"
   ]
  },
  {
   "cell_type": "code",
   "execution_count": null,
   "id": "5728727b",
   "metadata": {},
   "outputs": [],
   "source": []
  }
 ],
 "metadata": {
  "kernelspec": {
   "display_name": "venv",
   "language": "python",
   "name": "python3"
  },
  "language_info": {
   "codemirror_mode": {
    "name": "ipython",
    "version": 3
   },
   "file_extension": ".py",
   "mimetype": "text/x-python",
   "name": "python",
   "nbconvert_exporter": "python",
   "pygments_lexer": "ipython3",
   "version": "3.12.3"
  }
 },
 "nbformat": 4,
 "nbformat_minor": 5
}
